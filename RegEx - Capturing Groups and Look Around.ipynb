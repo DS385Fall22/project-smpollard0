{
 "cells": [
  {
   "cell_type": "markdown",
   "id": "07bf8188",
   "metadata": {},
   "source": [
    "The purpose of this notebook is to explore capturing groups and lookaround.\n",
    "\n",
    "Preferred website to test Regular Expressions: https://regex101.com/"
   ]
  },
  {
   "cell_type": "markdown",
   "id": "f7761aea",
   "metadata": {},
   "source": [
    "# Capturing Groups"
   ]
  },
  {
   "cell_type": "markdown",
   "id": "a96c8df2",
   "metadata": {},
   "source": [
    "Capturing groups are numbered in sequential order in which they show up."
   ]
  },
  {
   "cell_type": "code",
   "execution_count": 1,
   "id": "94ff2893",
   "metadata": {},
   "outputs": [],
   "source": [
    "import re"
   ]
  },
  {
   "cell_type": "code",
   "execution_count": 2,
   "id": "67a2e0bd",
   "metadata": {},
   "outputs": [
    {
     "data": {
      "text/plain": [
       "'ABCDEFXYZABCDEFXYZ'"
      ]
     },
     "execution_count": 2,
     "metadata": {},
     "output_type": "execute_result"
    }
   ],
   "source": [
    "result = re.search(r\"(ABC)(DEF)(XYZ)\\1\\2\\3\", \"ABCDEFXYZABCDEFXYZ\")\n",
    "result[0]"
   ]
  },
  {
   "cell_type": "markdown",
   "id": "fce63228",
   "metadata": {},
   "source": [
    "Capturing groups can also be embedded in one another which is ordered from the outside in"
   ]
  },
  {
   "cell_type": "code",
   "execution_count": 3,
   "id": "82fa5b11",
   "metadata": {},
   "outputs": [
    {
     "data": {
      "text/plain": [
       "'ABCDEFXYZABCDEFDEFXYZ'"
      ]
     },
     "execution_count": 3,
     "metadata": {},
     "output_type": "execute_result"
    }
   ],
   "source": [
    "result = re.search(r\"(ABC(DEF))(XYZ)\\1\\2\\3\", \"ABCDEFXYZABCDEFDEFXYZ\")\n",
    "result[0]"
   ]
  },
  {
   "cell_type": "markdown",
   "id": "162be13a",
   "metadata": {},
   "source": [
    "# Lookaround"
   ]
  },
  {
   "cell_type": "markdown",
   "id": "810fddd6",
   "metadata": {},
   "source": [
    "Lookaround in RegEx is what allows you to consider certain parts of a pattern without returning it.\n",
    "First we'll look at positive lookahead."
   ]
  },
  {
   "cell_type": "code",
   "execution_count": 4,
   "id": "7db4eedd",
   "metadata": {},
   "outputs": [
    {
     "data": {
      "text/plain": [
       "'DEF'"
      ]
     },
     "execution_count": 4,
     "metadata": {},
     "output_type": "execute_result"
    }
   ],
   "source": [
    "result = re.search(r\".*(?=ABC)\", \"DEFABC\")\n",
    "result[0]"
   ]
  },
  {
   "cell_type": "markdown",
   "id": "b14c364e",
   "metadata": {},
   "source": [
    "Next is positive lookbehind"
   ]
  },
  {
   "cell_type": "code",
   "execution_count": 5,
   "id": "8f3385a1",
   "metadata": {},
   "outputs": [
    {
     "data": {
      "text/plain": [
       "'DEF'"
      ]
     },
     "execution_count": 5,
     "metadata": {},
     "output_type": "execute_result"
    }
   ],
   "source": [
    "result = re.search(r\"(?<=ABC).*\", \"ABCDEF\")\n",
    "result[0]"
   ]
  },
  {
   "cell_type": "markdown",
   "id": "47258359",
   "metadata": {},
   "source": [
    "Now let's combine the two to search a series of files for html opening and closing title tags"
   ]
  },
  {
   "cell_type": "code",
   "execution_count": 18,
   "id": "76a864b1",
   "metadata": {},
   "outputs": [
    {
     "name": "stdout",
     "output_type": "stream",
     "text": [
      "Cal Poly Humboldt - cph.txt\n",
      "Cal Poly | Learn by Doing - cpslo.txt\n",
      "Home – Chico State - csuc.txt\n",
      "California State University, East Bay - csueb.txt\n",
      "Home - California State University, Fresno - csuf.txt\n",
      "Cal Maritime Home - csum.txt\n",
      "Home | California State University Monterey Bay - csumb.txt\n",
      "California State University, Northridge - csun.txt\n",
      "California State University, Sacramento | Sacramento State - csusa.txt\n",
      "Sonoma State University - csuso.txt\n",
      "Home | California State University Stanislaus - csustan.txt\n",
      "San Francisco State University - sfsu.txt\n",
      "San José State University - sjsu.txt\n",
      "서울대학교 2023학년도 입학전형 일정 안내 - snu.txt\n",
      "清华大学 - tu.txt\n",
      "UC Davis | UC Davis - ucd.txt\n"
     ]
    }
   ],
   "source": [
    "import os\n",
    "\n",
    "# assign directory\n",
    "directory = './htmls'\n",
    "\n",
    "# that directory\n",
    "for root, dirs, files in os.walk(directory):\n",
    "    for filename in files:\n",
    "        filepath = os.path.join(root, filename)\n",
    "        with open(filepath, encoding=\"utf8\") as f:\n",
    "            for line in f:\n",
    "                result = re.search(r\"(?<=<[Tt][Ii][Tt][Ll][Ee]>).*(?=</[Tt][Ii][Tt][Ll][Ee]>\\s?)\", line)\n",
    "                if result:\n",
    "                    print(result[0] + \" - \" + filename)\n",
    "                    break"
   ]
  },
  {
   "cell_type": "markdown",
   "id": "2638e548",
   "metadata": {},
   "source": [
    "There is also negative lookahead and lookbehind. Let's first take a look a negative lookahead."
   ]
  },
  {
   "cell_type": "code",
   "execution_count": 7,
   "id": "a9c884f1",
   "metadata": {},
   "outputs": [
    {
     "data": {
      "text/plain": [
       "'123'"
      ]
     },
     "execution_count": 7,
     "metadata": {},
     "output_type": "execute_result"
    }
   ],
   "source": [
    "result = re.search(r\"\\d{3}(?!DEF)\", \"oaihsdghj123ABC\")\n",
    "result[0]"
   ]
  },
  {
   "cell_type": "code",
   "execution_count": 8,
   "id": "c6a5bdb0",
   "metadata": {},
   "outputs": [],
   "source": [
    "result = re.search(r\"\\d{3}(?!DEF)\", \"oaihsdghj123DEF\")\n",
    "result"
   ]
  },
  {
   "cell_type": "markdown",
   "id": "9b6816a5",
   "metadata": {},
   "source": [
    "Notice how the cell above has no output. This is because the provided string that is searched doesn't match the regular expression. Let's consider negative lookbehind."
   ]
  },
  {
   "cell_type": "code",
   "execution_count": 9,
   "id": "8c08793d",
   "metadata": {},
   "outputs": [
    {
     "data": {
      "text/plain": [
       "'159'"
      ]
     },
     "execution_count": 9,
     "metadata": {},
     "output_type": "execute_result"
    }
   ],
   "source": [
    "result = re.search(r\"(?<!ABC)\\d\\d\\d\", \"ljkandsfvb159\")\n",
    "result[0]"
   ]
  },
  {
   "cell_type": "code",
   "execution_count": 10,
   "id": "2d12ce34",
   "metadata": {},
   "outputs": [],
   "source": [
    "result = re.search(r\"(?<!ABC)\\d\\d\\d\", \"ljkandsABC159\")\n",
    "result"
   ]
  },
  {
   "cell_type": "markdown",
   "id": "8d46b18c",
   "metadata": {},
   "source": [
    "And again we see that there is no output because the three digits are preceded by ABC"
   ]
  }
 ],
 "metadata": {
  "kernelspec": {
   "display_name": "Python 3",
   "language": "python",
   "name": "python3"
  },
  "language_info": {
   "codemirror_mode": {
    "name": "ipython",
    "version": 3
   },
   "file_extension": ".py",
   "mimetype": "text/x-python",
   "name": "python",
   "nbconvert_exporter": "python",
   "pygments_lexer": "ipython3",
   "version": "3.11.0"
  }
 },
 "nbformat": 4,
 "nbformat_minor": 5
}
