{
 "cells": [
  {
   "cell_type": "markdown",
   "id": "07bf8188",
   "metadata": {},
   "source": [
    "The purpose of this notebook is to explore capturing groups and lookaround.\n",
    "\n",
    "Preferred website to test Regular Expressions: https://regex101.com/"
   ]
  },
  {
   "cell_type": "markdown",
   "id": "f7761aea",
   "metadata": {},
   "source": [
    "# Capturing Groups"
   ]
  },
  {
   "cell_type": "markdown",
   "id": "a96c8df2",
   "metadata": {},
   "source": [
    "Capturing groups are numbered in sequential order in which they show up."
   ]
  },
  {
   "cell_type": "code",
   "execution_count": 1,
   "id": "94ff2893",
   "metadata": {},
   "outputs": [],
   "source": [
    "import re"
   ]
  },
  {
   "cell_type": "code",
   "execution_count": 2,
   "id": "eee923ac",
   "metadata": {},
   "outputs": [
    {
     "data": {
      "text/plain": [
       "'ABCDEFXYZABCDEFXYZ'"
      ]
     },
     "execution_count": 2,
     "metadata": {},
     "output_type": "execute_result"
    }
   ],
   "source": [
    "result = re.search(r\"(ABC)(DEF)(XYZ)\\1\\2\\3\", \"ABCDEFXYZABCDEFXYZ\")\n",
    "result[0]"
   ]
  },
  {
   "cell_type": "markdown",
   "id": "3474cbe6",
   "metadata": {},
   "source": [
    "Capturing groups can also be embedded in one another which is ordered from the outside in"
   ]
  },
  {
   "cell_type": "code",
   "execution_count": 3,
   "id": "82fa5b11",
   "metadata": {},
   "outputs": [
    {
     "data": {
      "text/plain": [
       "'ABCDEFXYZABCDEFDEFXYZ'"
      ]
     },
     "execution_count": 3,
     "metadata": {},
     "output_type": "execute_result"
    }
   ],
   "source": [
    "result = re.search(r\"(ABC(DEF))(XYZ)\\1\\2\\3\", \"ABCDEFXYZABCDEFDEFXYZ\")\n",
    "result[0]"
   ]
  },
  {
   "cell_type": "markdown",
   "id": "162be13a",
   "metadata": {},
   "source": [
    "# Lookaround"
   ]
  },
  {
   "cell_type": "markdown",
   "id": "40950822",
   "metadata": {},
   "source": [
    "Lookaround in RegEx is what allows you to consider certain parts of a pattern without returning it.\n",
    "First we'll look at positive lookahead."
   ]
  },
  {
   "cell_type": "code",
   "execution_count": 12,
   "id": "f30bc5e5",
   "metadata": {},
   "outputs": [
    {
     "data": {
      "text/plain": [
       "'DEF'"
      ]
     },
     "execution_count": 12,
     "metadata": {},
     "output_type": "execute_result"
    }
   ],
   "source": [
    "result = re.search(r\".*(?=ABC)\", \"DEFABC\")\n",
    "result[0]"
   ]
  },
  {
   "cell_type": "markdown",
   "id": "67e2a00a",
   "metadata": {},
   "source": [
    "Next is positive lookbehind"
   ]
  },
  {
   "cell_type": "code",
   "execution_count": 16,
   "id": "3f35e97a",
   "metadata": {},
   "outputs": [
    {
     "data": {
      "text/plain": [
       "'DEF'"
      ]
     },
     "execution_count": 16,
     "metadata": {},
     "output_type": "execute_result"
    }
   ],
   "source": [
    "result = re.search(r\"(?<=ABC).*\", \"ABCDEF\")\n",
    "result[0]"
   ]
  },
  {
   "cell_type": "code",
   "execution_count": null,
   "id": "33e3a0ec",
   "metadata": {},
   "outputs": [],
   "source": []
  }
 ],
 "metadata": {
  "kernelspec": {
   "display_name": "Python 3 (ipykernel)",
   "language": "python",
   "name": "python3"
  },
  "language_info": {
   "codemirror_mode": {
    "name": "ipython",
    "version": 3
   },
   "file_extension": ".py",
   "mimetype": "text/x-python",
   "name": "python",
   "nbconvert_exporter": "python",
   "pygments_lexer": "ipython3",
   "version": "3.10.8"
  }
 },
 "nbformat": 4,
 "nbformat_minor": 5
}
