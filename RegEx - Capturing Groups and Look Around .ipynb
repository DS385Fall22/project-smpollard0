{
 "cells": [
  {
   "cell_type": "markdown",
   "id": "07bf8188",
   "metadata": {},
   "source": [
    "The purpose of this notebook is to explore capturing groups and lookaround.\n",
    "\n",
    "Preferred website to test Regular Expressions: https://regex101.com/"
   ]
  },
  {
   "cell_type": "markdown",
   "id": "f7761aea",
   "metadata": {},
   "source": [
    "# Capturing Groups"
   ]
  },
  {
   "cell_type": "markdown",
   "id": "a96c8df2",
   "metadata": {},
   "source": [
    "Capturing groups are numbered in sequential order in which they show up."
   ]
  },
  {
   "cell_type": "code",
   "execution_count": 1,
   "id": "94ff2893",
   "metadata": {},
   "outputs": [],
   "source": [
    "import re"
   ]
  },
  {
   "cell_type": "code",
   "execution_count": 2,
   "id": "67a2e0bd",
   "metadata": {},
   "outputs": [
    {
     "data": {
      "text/plain": [
       "'ABCDEFXYZABCDEFXYZ'"
      ]
     },
     "execution_count": 2,
     "metadata": {},
     "output_type": "execute_result"
    }
   ],
   "source": [
    "result = re.search(r\"(ABC)(DEF)(XYZ)\\1\\2\\3\", \"ABCDEFXYZABCDEFXYZ\")\n",
    "result[0]"
   ]
  },
  {
   "cell_type": "markdown",
   "id": "fce63228",
   "metadata": {},
   "source": [
    "Capturing groups can also be embedded in one another which is ordered from the outside in"
   ]
  },
  {
   "cell_type": "code",
   "execution_count": 3,
   "id": "82fa5b11",
   "metadata": {},
   "outputs": [
    {
     "data": {
      "text/plain": [
       "'ABCDEFXYZABCDEFDEFXYZ'"
      ]
     },
     "execution_count": 3,
     "metadata": {},
     "output_type": "execute_result"
    }
   ],
   "source": [
    "result = re.search(r\"(ABC(DEF))(XYZ)\\1\\2\\3\", \"ABCDEFXYZABCDEFDEFXYZ\")\n",
    "result[0]"
   ]
  },
  {
   "cell_type": "markdown",
   "id": "162be13a",
   "metadata": {},
   "source": [
    "# Lookaround"
   ]
  },
  {
   "cell_type": "markdown",
   "id": "810fddd6",
   "metadata": {},
   "source": [
    "Lookaround in RegEx is what allows you to consider certain parts of a pattern without returning it.\n",
    "First we'll look at positive lookahead."
   ]
  },
  {
   "cell_type": "code",
   "execution_count": 12,
   "id": "7db4eedd",
   "metadata": {},
   "outputs": [
    {
     "data": {
      "text/plain": [
       "'DEF'"
      ]
     },
     "execution_count": 12,
     "metadata": {},
     "output_type": "execute_result"
    }
   ],
   "source": [
    "result = re.search(r\".*(?=ABC)\", \"DEFABC\")\n",
    "result[0]"
   ]
  },
  {
   "cell_type": "markdown",
   "id": "b14c364e",
   "metadata": {},
   "source": [
    "Next is positive lookbehind"
   ]
  },
  {
   "cell_type": "code",
   "execution_count": 16,
   "id": "8f3385a1",
   "metadata": {},
   "outputs": [
    {
     "data": {
      "text/plain": [
       "'DEF'"
      ]
     },
     "execution_count": 16,
     "metadata": {},
     "output_type": "execute_result"
    }
   ],
   "source": [
    "result = re.search(r\"(?<=ABC).*\", \"ABCDEF\")\n",
    "result[0]"
   ]
  },
  {
   "cell_type": "markdown",
   "id": "47258359",
   "metadata": {},
   "source": [
    "Now let's combine the two to search a series of files for html opening and closing title tags"
   ]
  },
  {
   "cell_type": "code",
   "execution_count": 17,
   "id": "76a864b1",
   "metadata": {},
   "outputs": [
    {
     "data": {
      "text/plain": [
       "'This is a website title'"
      ]
     },
     "execution_count": 17,
     "metadata": {},
     "output_type": "execute_result"
    }
   ],
   "source": [
    "result = re.search(r\"(?<=<[Tt][Ii][Tt][Ll][Ee]>).*(?=</[Tt][Ii][Tt][Ll][Ee]>)\", \"<title>This is a website title</title>\")\n",
    "result[0]"
   ]
  },
  {
   "cell_type": "markdown",
   "id": "2638e548",
   "metadata": {},
   "source": [
    "There is also negative lookahead and lookbehind. Let's first take a look a negative lookahead."
   ]
  },
  {
   "cell_type": "code",
   "execution_count": 24,
   "id": "a9c884f1",
   "metadata": {},
   "outputs": [
    {
     "data": {
      "text/plain": [
       "'123'"
      ]
     },
     "execution_count": 24,
     "metadata": {},
     "output_type": "execute_result"
    }
   ],
   "source": [
    "result = re.search(r\"\\d{3}(?!DEF)\", \"oaihsdghj123ABC\")\n",
    "result[0]"
   ]
  },
  {
   "cell_type": "code",
   "execution_count": 26,
   "id": "c6a5bdb0",
   "metadata": {},
   "outputs": [],
   "source": [
    "result = re.search(r\"\\d{3}(?!DEF)\", \"oaihsdghj123DEF\")\n",
    "result"
   ]
  },
  {
   "cell_type": "markdown",
   "id": "9b6816a5",
   "metadata": {},
   "source": [
    "Notice how the cell above has no output. This is because the provided string that is searched doesn't match the regular expression. Let's consider negative lookbehind."
   ]
  },
  {
   "cell_type": "code",
   "execution_count": 29,
   "id": "8c08793d",
   "metadata": {},
   "outputs": [
    {
     "data": {
      "text/plain": [
       "'159'"
      ]
     },
     "execution_count": 29,
     "metadata": {},
     "output_type": "execute_result"
    }
   ],
   "source": [
    "result = re.search(r\"(?<!ABC)\\d\\d\\d\", \"ljkandsfvb159\")\n",
    "result[0]"
   ]
  },
  {
   "cell_type": "code",
   "execution_count": 30,
   "id": "2d12ce34",
   "metadata": {},
   "outputs": [],
   "source": [
    "result = re.search(r\"(?<!ABC)\\d\\d\\d\", \"ljkandsABC159\")\n",
    "result"
   ]
  },
  {
   "cell_type": "markdown",
   "id": "8d46b18c",
   "metadata": {},
   "source": [
    "And again we see that there is no output because the three digits are preceded by ABC"
   ]
  },
  {
   "cell_type": "code",
   "execution_count": null,
   "id": "f2c1e054",
   "metadata": {},
   "outputs": [],
   "source": []
  }
 ],
 "metadata": {
  "kernelspec": {
   "display_name": "Python 3 (ipykernel)",
   "language": "python",
   "name": "python3"
  },
  "language_info": {
   "codemirror_mode": {
    "name": "ipython",
    "version": 3
   },
   "file_extension": ".py",
   "mimetype": "text/x-python",
   "name": "python",
   "nbconvert_exporter": "python",
   "pygments_lexer": "ipython3",
   "version": "3.10.8"
  }
 },
 "nbformat": 4,
 "nbformat_minor": 5
}
