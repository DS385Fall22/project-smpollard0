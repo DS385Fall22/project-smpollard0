{
 "cells": [
  {
   "cell_type": "markdown",
   "id": "07bf8188",
   "metadata": {},
   "source": [
    "The purpose of this notebook is to explore capturing groups and lookaround."
   ]
  },
  {
   "cell_type": "markdown",
   "id": "f7761aea",
   "metadata": {},
   "source": [
    "# Capturing Groups"
   ]
  },
  {
   "cell_type": "markdown",
   "id": "a96c8df2",
   "metadata": {},
   "source": [
    "Capturing groups are numbered in sequential order in which they show up."
   ]
  },
  {
   "cell_type": "code",
   "execution_count": 1,
   "id": "94ff2893",
   "metadata": {},
   "outputs": [],
   "source": [
    "import re"
   ]
  },
  {
   "cell_type": "code",
   "execution_count": 11,
   "id": "82fa5b11",
   "metadata": {},
   "outputs": [
    {
     "data": {
      "text/plain": [
       "'foobatbarfoobat'"
      ]
     },
     "execution_count": 11,
     "metadata": {},
     "output_type": "execute_result"
    }
   ],
   "source": [
    "result = re.search(r\"(foo(bat))(bar)\\1\", \"foobatbarfoobat\")\n",
    "result[0]"
   ]
  },
  {
   "cell_type": "markdown",
   "id": "162be13a",
   "metadata": {},
   "source": [
    "# Lookaround"
   ]
  },
  {
   "cell_type": "code",
   "execution_count": null,
   "id": "aba9ee80",
   "metadata": {},
   "outputs": [],
   "source": []
  }
 ],
 "metadata": {
  "kernelspec": {
   "display_name": "Python 3 (ipykernel)",
   "language": "python",
   "name": "python3"
  },
  "language_info": {
   "codemirror_mode": {
    "name": "ipython",
    "version": 3
   },
   "file_extension": ".py",
   "mimetype": "text/x-python",
   "name": "python",
   "nbconvert_exporter": "python",
   "pygments_lexer": "ipython3",
   "version": "3.10.8"
  }
 },
 "nbformat": 4,
 "nbformat_minor": 5
}
